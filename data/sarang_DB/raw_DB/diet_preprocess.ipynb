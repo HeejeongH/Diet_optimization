{
 "cells": [
  {
   "cell_type": "code",
   "execution_count": 1,
   "metadata": {},
   "outputs": [],
   "source": [
    "import pandas as pd\n",
    "import os\n",
    "import glob\n",
    "from datetime import datetime"
   ]
  },
  {
   "cell_type": "code",
   "execution_count": 2,
   "metadata": {},
   "outputs": [],
   "source": [
    "def transform_menu_data(folder_path):\n",
    "    excel_files = glob.glob(os.path.join(folder_path, '*.xlsx'))\n",
    "    \n",
    "    all_data = []\n",
    "    \n",
    "    for file_path in excel_files:\n",
    "        df = pd.read_excel(file_path, sheet_name='menu')\n",
    "        meal_types = {\n",
    "            '조식': 'Breakfast',\n",
    "            '중식': 'Lunch',\n",
    "            '석식': 'Dinner'\n",
    "        }\n",
    "        \n",
    "        date_columns = [col for col in df.columns if str(col).startswith('2024')]\n",
    "        \n",
    "        for date_col in date_columns:\n",
    "            date_str = str(date_col).split('00:00:00')[0].strip()\n",
    "            day = pd.to_datetime(date_str).strftime('%Y-%m-%d')\n",
    "            \n",
    "            for meal_kor, meal_eng in meal_types.items():\n",
    "                meal_rows = df[df['구분'] == meal_kor]\n",
    "                \n",
    "                if not meal_rows.empty:\n",
    "                    menus = meal_rows[date_col].tolist()\n",
    "                    menus = [menu for menu in menus if pd.notna(menu)]\n",
    "                    menu_str = ', '.join(menus)\n",
    "                    all_data.append({\n",
    "                        'Day': day,\n",
    "                        'MealType': meal_eng,\n",
    "                        'Menus': menu_str\n",
    "                    })\n",
    "    \n",
    "    result_df = pd.DataFrame(all_data)\n",
    "    result_df = result_df.sort_values(['Day', 'MealType'])\n",
    "\n",
    "    result_df.to_excel(f'../processed_DB/DIET_{folder_path}.xlsx', index=False)\n",
    "    return result_df"
   ]
  },
  {
   "cell_type": "code",
   "execution_count": 3,
   "metadata": {},
   "outputs": [],
   "source": [
    "def combine_menus(folder_path):\n",
    "    excel_files = glob.glob(os.path.join(folder_path, '*.xlsx'))\n",
    "    \n",
    "    combined_nutrient = pd.DataFrame()\n",
    "    combined_category = pd.DataFrame()\n",
    "    combined_ingredient = pd.DataFrame()\n",
    "    \n",
    "    for file_path in excel_files:\n",
    "        try:\n",
    "            nutrient_df = pd.read_excel(file_path, sheet_name='nutrient')\n",
    "            combined_nutrient = pd.concat([combined_nutrient, nutrient_df], ignore_index=True)\n",
    "            \n",
    "            category_df = pd.read_excel(file_path, sheet_name='category')\n",
    "            combined_category = pd.concat([combined_category, category_df], ignore_index=True)\n",
    "\n",
    "            ingredient_df = pd.read_excel(file_path, sheet_name='ingredient')\n",
    "            ingredient_df = ingredient_df[['Menu', 'Ingredient', 'Amount_g']]\n",
    "            combined_ingredient = pd.concat([combined_ingredient, ingredient_df], ignore_index=True)\n",
    "                       \n",
    "        except Exception as e:\n",
    "            print(f\"Error processing {os.path.basename(file_path)}: {str(e)}\")\n",
    "    \n",
    "    combined_nutrient = combined_nutrient.drop_duplicates()\n",
    "    combined_category = combined_category.drop_duplicates()\n",
    "    combined_ingredient = combined_ingredient.drop_duplicates()\n",
    "    \n",
    "    with pd.ExcelWriter(f'../processed_DB/Menu_ingredient_nutrient_{folder_path}.xlsx') as writer:\n",
    "        combined_nutrient.to_excel(writer, sheet_name='nutrient', index=False)\n",
    "        combined_category.to_excel(writer, sheet_name='category', index=False)\n",
    "        combined_ingredient.to_excel(writer, sheet_name='ingredient', index=False)\n",
    "    \n",
    "    return combined_nutrient, combined_category, combined_ingredient"
   ]
  },
  {
   "cell_type": "code",
   "execution_count": 4,
   "metadata": {},
   "outputs": [],
   "source": [
    "def combine_price(folder_path):\n",
    "    excel_files = glob.glob(os.path.join(folder_path, '*.xlsx'))\n",
    "    combined_price = pd.DataFrame()\n",
    "    \n",
    "    for file_path in excel_files:\n",
    "        try:\n",
    "            ingredient_df = pd.read_excel(file_path, sheet_name='ingredient')\n",
    "            ingredient_df = ingredient_df[['Ingredient', '단가(원/g)']]\n",
    "            combined_price = pd.concat([combined_price, ingredient_df], ignore_index=True)\n",
    "                       \n",
    "        except Exception as e:\n",
    "            print(f\"Error processing {os.path.basename(file_path)}: {str(e)}\")\n",
    "    \n",
    "    combined_price = combined_price.drop_duplicates()\n",
    "    \n",
    "    with pd.ExcelWriter(f'../processed_DB/Ingredient_Price_{folder_path}.xlsx') as writer:\n",
    "        combined_price.to_excel(writer, sheet_name='Sheet1', index=False)\n",
    "    \n",
    "    return combined_price"
   ]
  },
  {
   "cell_type": "code",
   "execution_count": 5,
   "metadata": {},
   "outputs": [],
   "source": [
    "# 사용 예시\n",
    "folder_path = 'sarang'\n",
    "result_df = transform_menu_data(folder_path)\n",
    "nutrient_df, category_df, ingredient_df = combine_menus(folder_path)\n",
    "combined_price = combine_price(folder_path)"
   ]
  }
 ],
 "metadata": {
  "kernelspec": {
   "display_name": "base",
   "language": "python",
   "name": "python3"
  },
  "language_info": {
   "codemirror_mode": {
    "name": "ipython",
    "version": 3
   },
   "file_extension": ".py",
   "mimetype": "text/x-python",
   "name": "python",
   "nbconvert_exporter": "python",
   "pygments_lexer": "ipython3",
   "version": "3.9.13"
  }
 },
 "nbformat": 4,
 "nbformat_minor": 2
}
